{
 "cells": [
  {
   "cell_type": "markdown",
   "metadata": {},
   "source": [
    "Вариант 5"
   ]
  },
  {
   "cell_type": "code",
   "execution_count": 15,
   "metadata": {},
   "outputs": [
    {
     "data": {
      "text/latex": [
       "\\[\\tag{${\\it \\%o}_{14}$}\\begin{pmatrix}1 & 3 & 7 & 2 \\\\ 0 & 5 & 3 & 1 \\\\ -1 & 0 & 2 & 5 \\\\ 7 & 2 & 1 & 3 \\\\ \\end{pmatrix}\\]"
      ],
      "text/plain": [
       "                               [  1   3  7  2 ]\n",
       "                               [              ]\n",
       "                               [  0   5  3  1 ]\n",
       "(%o14)                         [              ]\n",
       "                               [ - 1  0  2  5 ]\n",
       "                               [              ]\n",
       "                               [  7   2  1  3 ]"
      ],
      "text/x-maxima": [
       "matrix([1,3,7,2],[0,5,3,1],[-1,0,2,5],[7,2,1,3])"
      ]
     },
     "execution_count": 15,
     "metadata": {},
     "output_type": "execute_result"
    }
   ],
   "source": [
    "b: matrix([1, 3, 7, 2], [0, 5, 3, 1], [-1, 0, 2, 5], [7, 2, 1, 3]);"
   ]
  },
  {
   "cell_type": "code",
   "execution_count": 28,
   "metadata": {},
   "outputs": [
    {
     "data": {
      "text/latex": [
       "\\[\\tag{${\\it \\%o}_{25}$}912\\]"
      ],
      "text/plain": [
       "(%o25)                                912"
      ],
      "text/x-maxima": [
       "912"
      ]
     },
     "execution_count": 28,
     "metadata": {},
     "output_type": "execute_result"
    }
   ],
   "source": [
    "determinant(b);"
   ]
  },
  {
   "cell_type": "markdown",
   "metadata": {},
   "source": [
    " * * * * * * * * * * * * * * ** * * * * * * * ** * * * ** * *"
   ]
  }
 ],
 "metadata": {
  "kernelspec": {
   "display_name": "Maxima",
   "language": "maxima",
   "name": "maxima"
  },
  "language_info": {
   "codemirror_mode": "maxima",
   "file_extension": ".mac",
   "mimetype": "text/x-maxima",
   "name": "maxima",
   "pygments_lexer": "maxima",
   "version": "5.43.0"
  }
 },
 "nbformat": 4,
 "nbformat_minor": 4
}
