{
 "cells": [
  {
   "cell_type": "markdown",
   "metadata": {},
   "source": [
    "Вариант 5"
   ]
  },
  {
   "cell_type": "code",
   "execution_count": 8,
   "metadata": {},
   "outputs": [
    {
     "data": {
      "text/latex": [
       "\\[\\tag{${\\it \\%o}_{4}$}b\\left(x\\right):=\\left(1+x\\right)^6+\\left(1-x\\right)^6\\]"
      ],
      "text/plain": [
       "                                         6          6\n",
       "(%o4)                     b(x) := (1 + x)  + (1 - x)"
      ],
      "text/x-maxima": [
       "b(x):=(1+x)^6+(1-x)^6"
      ]
     },
     "execution_count": 8,
     "metadata": {},
     "output_type": "execute_result"
    }
   ],
   "source": [
    "b(x):= (1. + x)^6 + (1. - x)^6;"
   ]
  },
  {
   "cell_type": "code",
   "execution_count": 10,
   "metadata": {},
   "outputs": [
    {
     "data": {
      "text/latex": [
       "\\[\\tag{${\\it \\%o}_{6}$}244.15625\\]"
      ],
      "text/plain": [
       "(%o6)                              244.15625"
      ],
      "text/x-maxima": [
       "244.15625"
      ]
     },
     "execution_count": 10,
     "metadata": {},
     "output_type": "execute_result"
    }
   ],
   "source": [
    "b(1.5);"
   ]
  },
  {
   "cell_type": "code",
   "execution_count": 12,
   "metadata": {},
   "outputs": [
    {
     "data": {
      "text/latex": [
       "\\[\\tag{${\\it \\%o}_{8}$}6\\,\\left(x+1\\right)^5-6\\,\\left(1-x\\right)^5\\]"
      ],
      "text/plain": [
       "                                     5            5\n",
       "(%o8)                       6 (x + 1)  - 6 (1 - x)"
      ],
      "text/x-maxima": [
       "6*(x+1)^5-6*(1-x)^5"
      ]
     },
     "execution_count": 12,
     "metadata": {},
     "output_type": "execute_result"
    }
   ],
   "source": [
    "diff(b(x), x);"
   ]
  },
  {
   "cell_type": "code",
   "execution_count": 15,
   "metadata": {},
   "outputs": [
    {
     "data": {
      "text/latex": [
       "\\[\\tag{${\\it \\%o}_{10}$}a\\left(x\\right):=x\\,{\\it diff}\\left(b\\left(x\\right) , x\\right)\\]"
      ],
      "text/plain": [
       "(%o10)                      a(x) := x diff(b(x), x)"
      ],
      "text/x-maxima": [
       "a(x):=x*diff(b(x),x)"
      ]
     },
     "execution_count": 15,
     "metadata": {},
     "output_type": "execute_result"
    }
   ],
   "source": [
    "a(x):= x*diff(b(x), x);"
   ]
  },
  {
   "cell_type": "code",
   "execution_count": 13,
   "metadata": {},
   "outputs": [
    {
     "data": {
      "text/latex": [
       "\\[\\tag{${\\it \\%o}_{9}$}\\frac{12\\,x^7+168\\,x^5+140\\,x^3}{7}\\]"
      ],
      "text/plain": [
       "                                7        5        3\n",
       "                            12 x  + 168 x  + 140 x\n",
       "(%o9)                       -----------------------\n",
       "                                       7"
      ],
      "text/x-maxima": [
       "(12*x^7+168*x^5+140*x^3)/7"
      ]
     },
     "execution_count": 13,
     "metadata": {},
     "output_type": "execute_result"
    }
   ],
   "source": [
    "integrate(x*diff(b(x), x), x);"
   ]
  },
  {
   "cell_type": "code",
   "execution_count": 2,
   "metadata": {},
   "outputs": [
    {
     "data": {
      "text/latex": [
       "\\[\\tag{${\\it \\%o}_{0}$}f\\left(x\\right):=\\left(p\\,\\exp x+1-p\\right)^{n}\\]"
      ],
      "text/plain": [
       "                                                    n\n",
       "(%o0)                     f(x) := (p exp(x) + 1 - p)"
      ],
      "text/x-maxima": [
       "f(x):=(p*exp(x)+1-p)^n"
      ]
     },
     "execution_count": 2,
     "metadata": {},
     "output_type": "execute_result"
    }
   ],
   "source": [
    "f(x):=(p * exp(x) + 1 - p)^n;"
   ]
  },
  {
   "cell_type": "code",
   "execution_count": null,
   "metadata": {},
   "outputs": [],
   "source": []
  },
  {
   "cell_type": "code",
   "execution_count": 108,
   "metadata": {},
   "outputs": [
    {
     "data": {
      "text/latex": [
       "\\[\\tag{${\\it \\%o}_{144}$}\\mathbf{done}\\]"
      ],
      "text/plain": [
       "(%o144)                              done"
      ],
      "text/x-maxima": [
       "done"
      ]
     },
     "execution_count": 108,
     "metadata": {},
     "output_type": "execute_result"
    },
    {
     "name": "stdout",
     "output_type": "stream",
     "text": [
      "n*p\n",
      "n*p*(n*p-p+1)\n",
      "n*p*(n^2*p^2-3*n*p^2+2*p^2+3*n*p-3*p+1)\n",
      "n*p*(n^3*p^3-6*n^2*p^3+11*n*p^3-6*p^3+6*n^2*p^2-18*n*p^2+12*p^2+7*n*p-7*p+1)\n",
      "n*p*(n^4*p^4-10*n^3*p^4+35*n^2*p^4-50*n*p^4+24*p^4+10*n^3*p^3-60*n^2*p^3+110*n*p^3-60*p^3+25*n^2*p^2-75*n*p^2+50*p^2+15*n*p-15*p+1)\n"
     ]
    }
   ],
   "source": [
    "for i: 1  step 1 thru 5 do printf(true, \"~a~%\", factor(subst(0, x, diff(f(x), x, i))));"
   ]
  },
  {
   "cell_type": "code",
   "execution_count": 109,
   "metadata": {},
   "outputs": [
    {
     "data": {
      "text/latex": [
       "\\(1.0 \\times 10^{+1}\\)"
      ]
     },
     "metadata": {},
     "output_type": "display_data"
    },
    {
     "data": {
      "text/latex": [
       "\\(1.1 \\times 10^{+2}\\)"
      ]
     },
     "metadata": {},
     "output_type": "display_data"
    },
    {
     "data": {
      "text/latex": [
       "\\(1.3 \\times 10^{+3}\\)"
      ]
     },
     "metadata": {},
     "output_type": "display_data"
    },
    {
     "data": {
      "text/latex": [
       "\\(1.6 \\times 10^{+4}\\)"
      ]
     },
     "metadata": {},
     "output_type": "display_data"
    },
    {
     "data": {
      "text/latex": [
       "\\(2.1 \\times 10^{+5}\\)"
      ]
     },
     "metadata": {},
     "output_type": "display_data"
    },
    {
     "data": {
      "text/latex": [
       "\\[\\tag{${\\it \\%o}_{145}$}\\mathbf{done}\\]"
      ],
      "text/plain": [
       "(%o145)                              done"
      ],
      "text/x-maxima": [
       "done"
      ]
     },
     "execution_count": 109,
     "metadata": {},
     "output_type": "execute_result"
    }
   ],
   "source": [
    "for i: 1 step 1 thru 5 do print(subst([x = 0, p = 0.1, n = 100], diff(f(x), x, i)));"
   ]
  },
  {
   "cell_type": "code",
   "execution_count": 95,
   "metadata": {},
   "outputs": [
    {
     "data": {
      "text/latex": [
       "\\[\\tag{${\\it \\%o}_{132}$}g\\left(x\\right):=\\left(p\\,\\exp x+1-p\\right)^{n}\\,\\exp \\left(-x\\,n\\,p\\right)\\]"
      ],
      "text/plain": [
       "                                             n\n",
       "(%o132)            g(x) := (p exp(x) + 1 - p)  exp(- x n p)"
      ],
      "text/x-maxima": [
       "g(x):=(p*exp(x)+1-p)^n*exp(-x*n*p)"
      ]
     },
     "execution_count": 95,
     "metadata": {},
     "output_type": "execute_result"
    }
   ],
   "source": [
    "g(x):=((p * exp(x) + 1 - p)^n) * exp(-x * n * p);"
   ]
  },
  {
   "cell_type": "code",
   "execution_count": 96,
   "metadata": {},
   "outputs": [
    {
     "data": {
      "text/latex": [
       "\\[\\tag{${\\it \\%o}_{133}$}\\mathbf{done}\\]"
      ],
      "text/plain": [
       "(%o133)                              done"
      ],
      "text/x-maxima": [
       "done"
      ]
     },
     "execution_count": 96,
     "metadata": {},
     "output_type": "execute_result"
    },
    {
     "name": "stdout",
     "output_type": "stream",
     "text": [
      "-n*(p-1)*p\n",
      "n*(p-1)*p*(2*p-1)\n",
      "n*(p-1)*p*(3*n*p^2-6*p^2-3*n*p+6*p-1)\n",
      "-n*(p-1)*p*(2*p-1)*(10*n*p^2-12*p^2-10*n*p+12*p-1)\n",
      "-n*(p-1)*p*(15*n^2*p^4-130*n*p^4+120*p^4-30*n^2*p^3+260*n*p^3-240*p^3+15*n^2*p^2-155*n*p^2+150*p^2+25*n*p-30*p+1)\n"
     ]
    }
   ],
   "source": [
    "for i: 2  step 1 thru 6 do printf(true, \"~a~%\", factor(subst(0, x, diff(g(x), x, i))));"
   ]
  },
  {
   "cell_type": "code",
   "execution_count": 98,
   "metadata": {},
   "outputs": [
    {
     "data": {
      "text/latex": [
       "\\(9.0\\)"
      ]
     },
     "metadata": {},
     "output_type": "display_data"
    },
    {
     "data": {
      "text/latex": [
       "\\(7.2\\)"
      ]
     },
     "metadata": {},
     "output_type": "display_data"
    },
    {
     "data": {
      "text/latex": [
       "\\(2.5 \\times 10^{+2}\\)"
      ]
     },
     "metadata": {},
     "output_type": "display_data"
    },
    {
     "data": {
      "text/latex": [
       "\\(6.5 \\times 10^{+2}\\)"
      ]
     },
     "metadata": {},
     "output_type": "display_data"
    },
    {
     "data": {
      "text/latex": [
       "\\(1.2 \\times 10^{+4}\\)"
      ]
     },
     "metadata": {},
     "output_type": "display_data"
    },
    {
     "data": {
      "text/latex": [
       "\\[\\tag{${\\it \\%o}_{135}$}\\mathbf{done}\\]"
      ],
      "text/plain": [
       "(%o135)                              done"
      ],
      "text/x-maxima": [
       "done"
      ]
     },
     "execution_count": 98,
     "metadata": {},
     "output_type": "execute_result"
    }
   ],
   "source": [
    "for i: 2 step 1 thru 6 do print(subst([x = 0, p = 0.1, n = 100], diff(g(x), x, i)));"
   ]
  },
  {
   "cell_type": "code",
   "execution_count": 5,
   "metadata": {},
   "outputs": [
    {
     "data": {
      "text/latex": [
       "\\[\\tag{${\\it \\%o}_{2}$}k\\left(x\\right):=\\left(p\\,\\exp x+1-p\\right)^{n}\\,\\exp \\left(-x\\,n\\,p\\right)\\]"
      ],
      "text/plain": [
       "                                             n\n",
       "(%o2)              k(x) := (p exp(x) + 1 - p)  exp(- x n p)"
      ],
      "text/x-maxima": [
       "k(x):=(p*exp(x)+1-p)^n*exp(-x*n*p)"
      ]
     },
     "execution_count": 5,
     "metadata": {},
     "output_type": "execute_result"
    }
   ],
   "source": [
    "k(x):=((p * exp(x) + 1 - p)^n) * exp(-x * n * p);"
   ]
  },
  {
   "cell_type": "code",
   "execution_count": null,
   "metadata": {},
   "outputs": [],
   "source": []
  }
 ],
 "metadata": {
  "kernelspec": {
   "display_name": "Maxima",
   "language": "maxima",
   "name": "maxima"
  },
  "language_info": {
   "codemirror_mode": "maxima",
   "file_extension": ".mac",
   "mimetype": "text/x-maxima",
   "name": "maxima",
   "pygments_lexer": "maxima",
   "version": "5.43.0"
  }
 },
 "nbformat": 4,
 "nbformat_minor": 4
}
